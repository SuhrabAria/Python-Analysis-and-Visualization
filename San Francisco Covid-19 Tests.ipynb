{
 "cells": [
  {
   "cell_type": "markdown",
   "id": "d8518309",
   "metadata": {},
   "source": [
    "#          San Francisco Covid-19 Tests\n",
    "#          March 2020 - April 2021"
   ]
  },
  {
   "cell_type": "markdown",
   "id": "79d5c14f",
   "metadata": {},
   "source": [
    "The following is analysis and visualization of San Francisco Covid-19 tests from March 2020 until April 2021. The tests had\n",
    "been collected from all the labs of the city. The focus will be on dates of tests, total tests, and its results."
   ]
  },
  {
   "cell_type": "markdown",
   "id": "020f0087",
   "metadata": {},
   "source": [
    "Importing necessary libraries and modules"
   ]
  },
  {
   "cell_type": "code",
   "execution_count": 72,
   "id": "8276b20e",
   "metadata": {},
   "outputs": [],
   "source": [
    "import pandas as pd\n",
    "import numpy as np"
   ]
  },
  {
   "cell_type": "code",
   "execution_count": 73,
   "id": "696077c4",
   "metadata": {},
   "outputs": [],
   "source": [
    "%matplotlib inline\n",
    "import matplotlib as mpl\n",
    "import matplotlib.pyplot as plt"
   ]
  },
  {
   "cell_type": "code",
   "execution_count": 74,
   "id": "180efd29",
   "metadata": {
    "scrolled": true
   },
   "outputs": [
    {
     "data": {
      "text/html": [
       "<div>\n",
       "<style scoped>\n",
       "    .dataframe tbody tr th:only-of-type {\n",
       "        vertical-align: middle;\n",
       "    }\n",
       "\n",
       "    .dataframe tbody tr th {\n",
       "        vertical-align: top;\n",
       "    }\n",
       "\n",
       "    .dataframe thead th {\n",
       "        text-align: right;\n",
       "    }\n",
       "</style>\n",
       "<table border=\"1\" class=\"dataframe\">\n",
       "  <thead>\n",
       "    <tr style=\"text-align: right;\">\n",
       "      <th></th>\n",
       "      <th>Test_Collection_Date</th>\n",
       "      <th>Tests</th>\n",
       "      <th>Positive</th>\n",
       "      <th>pct</th>\n",
       "      <th>Negative</th>\n",
       "      <th>indeterminate</th>\n",
       "      <th>Last Updated At</th>\n",
       "      <th>data_loaded_at</th>\n",
       "    </tr>\n",
       "  </thead>\n",
       "  <tbody>\n",
       "    <tr>\n",
       "      <th>0</th>\n",
       "      <td>2020/03/01</td>\n",
       "      <td>2</td>\n",
       "      <td>0</td>\n",
       "      <td>0.000</td>\n",
       "      <td>2</td>\n",
       "      <td>0</td>\n",
       "      <td>10/16/2021 04:33:42 PM</td>\n",
       "      <td>10/17/2021 09:00:04 AM</td>\n",
       "    </tr>\n",
       "    <tr>\n",
       "      <th>1</th>\n",
       "      <td>2020/03/03</td>\n",
       "      <td>8</td>\n",
       "      <td>2</td>\n",
       "      <td>0.250</td>\n",
       "      <td>6</td>\n",
       "      <td>0</td>\n",
       "      <td>10/16/2021 04:33:42 PM</td>\n",
       "      <td>10/17/2021 09:00:05 AM</td>\n",
       "    </tr>\n",
       "    <tr>\n",
       "      <th>2</th>\n",
       "      <td>2020/03/08</td>\n",
       "      <td>12</td>\n",
       "      <td>3</td>\n",
       "      <td>0.250</td>\n",
       "      <td>9</td>\n",
       "      <td>0</td>\n",
       "      <td>10/16/2021 04:33:42 PM</td>\n",
       "      <td>10/17/2021 09:00:05 AM</td>\n",
       "    </tr>\n",
       "    <tr>\n",
       "      <th>3</th>\n",
       "      <td>2020/03/10</td>\n",
       "      <td>91</td>\n",
       "      <td>7</td>\n",
       "      <td>0.077</td>\n",
       "      <td>84</td>\n",
       "      <td>0</td>\n",
       "      <td>10/16/2021 04:33:42 PM</td>\n",
       "      <td>10/17/2021 09:00:05 AM</td>\n",
       "    </tr>\n",
       "    <tr>\n",
       "      <th>4</th>\n",
       "      <td>2020/03/17</td>\n",
       "      <td>338</td>\n",
       "      <td>30</td>\n",
       "      <td>0.089</td>\n",
       "      <td>308</td>\n",
       "      <td>0</td>\n",
       "      <td>10/16/2021 04:33:42 PM</td>\n",
       "      <td>10/17/2021 09:00:05 AM</td>\n",
       "    </tr>\n",
       "  </tbody>\n",
       "</table>\n",
       "</div>"
      ],
      "text/plain": [
       "  Test_Collection_Date  Tests  Positive    pct  Negative  indeterminate  \\\n",
       "0           2020/03/01      2         0  0.000         2              0   \n",
       "1           2020/03/03      8         2  0.250         6              0   \n",
       "2           2020/03/08     12         3  0.250         9              0   \n",
       "3           2020/03/10     91         7  0.077        84              0   \n",
       "4           2020/03/17    338        30  0.089       308              0   \n",
       "\n",
       "          Last Updated At          data_loaded_at  \n",
       "0  10/16/2021 04:33:42 PM  10/17/2021 09:00:04 AM  \n",
       "1  10/16/2021 04:33:42 PM  10/17/2021 09:00:05 AM  \n",
       "2  10/16/2021 04:33:42 PM  10/17/2021 09:00:05 AM  \n",
       "3  10/16/2021 04:33:42 PM  10/17/2021 09:00:05 AM  \n",
       "4  10/16/2021 04:33:42 PM  10/17/2021 09:00:05 AM  "
      ]
     },
     "execution_count": 74,
     "metadata": {},
     "output_type": "execute_result"
    }
   ],
   "source": [
    "covid_test = pd.read_csv(\"C:/Users/Suhrab Aria/Documents/Covid-19_Tests.csv\")\n",
    "covid_test.rename(columns={\"specimen_collection_date\": 'Test_Collection_Date', \"tests\": 'Tests', \"pos\": 'Positive', \"neg\": 'Negative'}, inplace=True)\n",
    "covid_test.head()"
   ]
  },
  {
   "cell_type": "markdown",
   "id": "a066ae03",
   "metadata": {},
   "source": [
    "Changing test collection date type to datetime and making it as index"
   ]
  },
  {
   "cell_type": "code",
   "execution_count": 49,
   "id": "e1f88470",
   "metadata": {},
   "outputs": [
    {
     "data": {
      "text/html": [
       "<div>\n",
       "<style scoped>\n",
       "    .dataframe tbody tr th:only-of-type {\n",
       "        vertical-align: middle;\n",
       "    }\n",
       "\n",
       "    .dataframe tbody tr th {\n",
       "        vertical-align: top;\n",
       "    }\n",
       "\n",
       "    .dataframe thead th {\n",
       "        text-align: right;\n",
       "    }\n",
       "</style>\n",
       "<table border=\"1\" class=\"dataframe\">\n",
       "  <thead>\n",
       "    <tr style=\"text-align: right;\">\n",
       "      <th></th>\n",
       "      <th>Tests</th>\n",
       "      <th>Positive</th>\n",
       "      <th>pct</th>\n",
       "      <th>Negative</th>\n",
       "      <th>indeterminate</th>\n",
       "      <th>Last Updated At</th>\n",
       "      <th>data_loaded_at</th>\n",
       "    </tr>\n",
       "    <tr>\n",
       "      <th>Test_Collection_Date</th>\n",
       "      <th></th>\n",
       "      <th></th>\n",
       "      <th></th>\n",
       "      <th></th>\n",
       "      <th></th>\n",
       "      <th></th>\n",
       "      <th></th>\n",
       "    </tr>\n",
       "  </thead>\n",
       "  <tbody>\n",
       "    <tr>\n",
       "      <th>2020-03-01</th>\n",
       "      <td>2</td>\n",
       "      <td>0</td>\n",
       "      <td>0.000</td>\n",
       "      <td>2</td>\n",
       "      <td>0</td>\n",
       "      <td>10/16/2021 04:33:42 PM</td>\n",
       "      <td>10/17/2021 09:00:04 AM</td>\n",
       "    </tr>\n",
       "    <tr>\n",
       "      <th>2020-03-03</th>\n",
       "      <td>8</td>\n",
       "      <td>2</td>\n",
       "      <td>0.250</td>\n",
       "      <td>6</td>\n",
       "      <td>0</td>\n",
       "      <td>10/16/2021 04:33:42 PM</td>\n",
       "      <td>10/17/2021 09:00:05 AM</td>\n",
       "    </tr>\n",
       "    <tr>\n",
       "      <th>2020-03-08</th>\n",
       "      <td>12</td>\n",
       "      <td>3</td>\n",
       "      <td>0.250</td>\n",
       "      <td>9</td>\n",
       "      <td>0</td>\n",
       "      <td>10/16/2021 04:33:42 PM</td>\n",
       "      <td>10/17/2021 09:00:05 AM</td>\n",
       "    </tr>\n",
       "    <tr>\n",
       "      <th>2020-03-10</th>\n",
       "      <td>91</td>\n",
       "      <td>7</td>\n",
       "      <td>0.077</td>\n",
       "      <td>84</td>\n",
       "      <td>0</td>\n",
       "      <td>10/16/2021 04:33:42 PM</td>\n",
       "      <td>10/17/2021 09:00:05 AM</td>\n",
       "    </tr>\n",
       "    <tr>\n",
       "      <th>2020-03-17</th>\n",
       "      <td>338</td>\n",
       "      <td>30</td>\n",
       "      <td>0.089</td>\n",
       "      <td>308</td>\n",
       "      <td>0</td>\n",
       "      <td>10/16/2021 04:33:42 PM</td>\n",
       "      <td>10/17/2021 09:00:05 AM</td>\n",
       "    </tr>\n",
       "  </tbody>\n",
       "</table>\n",
       "</div>"
      ],
      "text/plain": [
       "                      Tests  Positive    pct  Negative  indeterminate  \\\n",
       "Test_Collection_Date                                                    \n",
       "2020-03-01                2         0  0.000         2              0   \n",
       "2020-03-03                8         2  0.250         6              0   \n",
       "2020-03-08               12         3  0.250         9              0   \n",
       "2020-03-10               91         7  0.077        84              0   \n",
       "2020-03-17              338        30  0.089       308              0   \n",
       "\n",
       "                             Last Updated At          data_loaded_at  \n",
       "Test_Collection_Date                                                  \n",
       "2020-03-01            10/16/2021 04:33:42 PM  10/17/2021 09:00:04 AM  \n",
       "2020-03-03            10/16/2021 04:33:42 PM  10/17/2021 09:00:05 AM  \n",
       "2020-03-08            10/16/2021 04:33:42 PM  10/17/2021 09:00:05 AM  \n",
       "2020-03-10            10/16/2021 04:33:42 PM  10/17/2021 09:00:05 AM  \n",
       "2020-03-17            10/16/2021 04:33:42 PM  10/17/2021 09:00:05 AM  "
      ]
     },
     "execution_count": 49,
     "metadata": {},
     "output_type": "execute_result"
    }
   ],
   "source": [
    "covid_test[\"Test_Collection_Date\"] = covid_test[\"Test_Collection_Date\"].astype('datetime64[ns]')\n",
    "covid_test.set_index('Test_Collection_Date').head()"
   ]
  },
  {
   "cell_type": "markdown",
   "id": "c5129877",
   "metadata": {},
   "source": [
    "Summarizing the dates of first column to Months and other columns"
   ]
  },
  {
   "cell_type": "code",
   "execution_count": 50,
   "id": "9243742a",
   "metadata": {
    "scrolled": true
   },
   "outputs": [
    {
     "data": {
      "text/html": [
       "<div>\n",
       "<style scoped>\n",
       "    .dataframe tbody tr th:only-of-type {\n",
       "        vertical-align: middle;\n",
       "    }\n",
       "\n",
       "    .dataframe tbody tr th {\n",
       "        vertical-align: top;\n",
       "    }\n",
       "\n",
       "    .dataframe thead th {\n",
       "        text-align: right;\n",
       "    }\n",
       "</style>\n",
       "<table border=\"1\" class=\"dataframe\">\n",
       "  <thead>\n",
       "    <tr style=\"text-align: right;\">\n",
       "      <th></th>\n",
       "      <th>Tests</th>\n",
       "      <th>Positive</th>\n",
       "      <th>pct</th>\n",
       "      <th>Negative</th>\n",
       "      <th>indeterminate</th>\n",
       "    </tr>\n",
       "    <tr>\n",
       "      <th>Test_Collection_Date</th>\n",
       "      <th></th>\n",
       "      <th></th>\n",
       "      <th></th>\n",
       "      <th></th>\n",
       "      <th></th>\n",
       "    </tr>\n",
       "  </thead>\n",
       "  <tbody>\n",
       "    <tr>\n",
       "      <th>2020-03-31</th>\n",
       "      <td>6294</td>\n",
       "      <td>652</td>\n",
       "      <td>3.416</td>\n",
       "      <td>5628</td>\n",
       "      <td>14</td>\n",
       "    </tr>\n",
       "    <tr>\n",
       "      <th>2020-04-30</th>\n",
       "      <td>23894</td>\n",
       "      <td>1678</td>\n",
       "      <td>2.827</td>\n",
       "      <td>22161</td>\n",
       "      <td>55</td>\n",
       "    </tr>\n",
       "    <tr>\n",
       "      <th>2020-05-31</th>\n",
       "      <td>47900</td>\n",
       "      <td>1214</td>\n",
       "      <td>0.831</td>\n",
       "      <td>46615</td>\n",
       "      <td>71</td>\n",
       "    </tr>\n",
       "    <tr>\n",
       "      <th>2020-06-30</th>\n",
       "      <td>90125</td>\n",
       "      <td>1614</td>\n",
       "      <td>0.539</td>\n",
       "      <td>88434</td>\n",
       "      <td>77</td>\n",
       "    </tr>\n",
       "    <tr>\n",
       "      <th>2020-07-31</th>\n",
       "      <td>124777</td>\n",
       "      <td>4093</td>\n",
       "      <td>1.044</td>\n",
       "      <td>120605</td>\n",
       "      <td>79</td>\n",
       "    </tr>\n",
       "  </tbody>\n",
       "</table>\n",
       "</div>"
      ],
      "text/plain": [
       "                       Tests  Positive    pct  Negative  indeterminate\n",
       "Test_Collection_Date                                                  \n",
       "2020-03-31              6294       652  3.416      5628             14\n",
       "2020-04-30             23894      1678  2.827     22161             55\n",
       "2020-05-31             47900      1214  0.831     46615             71\n",
       "2020-06-30             90125      1614  0.539     88434             77\n",
       "2020-07-31            124777      4093  1.044    120605             79"
      ]
     },
     "execution_count": 50,
     "metadata": {},
     "output_type": "execute_result"
    }
   ],
   "source": [
    "monthly_resampled_data = covid_test.resample('M', on='Test_Collection_Date').sum()\n",
    "monthly_resampled_data.head()"
   ]
  },
  {
   "cell_type": "markdown",
   "id": "c960fabb",
   "metadata": {},
   "source": [
    "Dropping two columns"
   ]
  },
  {
   "cell_type": "code",
   "execution_count": 51,
   "id": "f67abf40",
   "metadata": {},
   "outputs": [
    {
     "data": {
      "text/html": [
       "<div>\n",
       "<style scoped>\n",
       "    .dataframe tbody tr th:only-of-type {\n",
       "        vertical-align: middle;\n",
       "    }\n",
       "\n",
       "    .dataframe tbody tr th {\n",
       "        vertical-align: top;\n",
       "    }\n",
       "\n",
       "    .dataframe thead th {\n",
       "        text-align: right;\n",
       "    }\n",
       "</style>\n",
       "<table border=\"1\" class=\"dataframe\">\n",
       "  <thead>\n",
       "    <tr style=\"text-align: right;\">\n",
       "      <th></th>\n",
       "      <th>Tests</th>\n",
       "      <th>Positive</th>\n",
       "      <th>Negative</th>\n",
       "    </tr>\n",
       "    <tr>\n",
       "      <th>Test_Collection_Date</th>\n",
       "      <th></th>\n",
       "      <th></th>\n",
       "      <th></th>\n",
       "    </tr>\n",
       "  </thead>\n",
       "  <tbody>\n",
       "    <tr>\n",
       "      <th>2020-03-31</th>\n",
       "      <td>6294</td>\n",
       "      <td>652</td>\n",
       "      <td>5628</td>\n",
       "    </tr>\n",
       "    <tr>\n",
       "      <th>2020-04-30</th>\n",
       "      <td>23894</td>\n",
       "      <td>1678</td>\n",
       "      <td>22161</td>\n",
       "    </tr>\n",
       "    <tr>\n",
       "      <th>2020-05-31</th>\n",
       "      <td>47900</td>\n",
       "      <td>1214</td>\n",
       "      <td>46615</td>\n",
       "    </tr>\n",
       "    <tr>\n",
       "      <th>2020-06-30</th>\n",
       "      <td>90125</td>\n",
       "      <td>1614</td>\n",
       "      <td>88434</td>\n",
       "    </tr>\n",
       "    <tr>\n",
       "      <th>2020-07-31</th>\n",
       "      <td>124777</td>\n",
       "      <td>4093</td>\n",
       "      <td>120605</td>\n",
       "    </tr>\n",
       "  </tbody>\n",
       "</table>\n",
       "</div>"
      ],
      "text/plain": [
       "                       Tests  Positive  Negative\n",
       "Test_Collection_Date                            \n",
       "2020-03-31              6294       652      5628\n",
       "2020-04-30             23894      1678     22161\n",
       "2020-05-31             47900      1214     46615\n",
       "2020-06-30             90125      1614     88434\n",
       "2020-07-31            124777      4093    120605"
      ]
     },
     "execution_count": 51,
     "metadata": {},
     "output_type": "execute_result"
    }
   ],
   "source": [
    "monthly_tests = monthly_resampled_data.drop(['pct', 'indeterminate'], axis=1)\n",
    "monthly_tests.head()"
   ]
  },
  {
   "cell_type": "markdown",
   "id": "5b7acb7e",
   "metadata": {},
   "source": [
    "The following line graph shows the trend of tests and its results. There is an increase in number of tests and its negative\n",
    "result over the months, but the positive results had not fluctuated considerably. "
   ]
  },
  {
   "cell_type": "code",
   "execution_count": 88,
   "id": "0ae2975c",
   "metadata": {},
   "outputs": [
    {
     "data": {
      "image/png": "[encoded data removed]",
      "text/plain": [
       "<Figure size 432x288 with 1 Axes>"
      ]
     },
     "metadata": {
      "needs_background": "light"
     },
     "output_type": "display_data"
    }
   ],
   "source": [
    "monthly_tests.plot(kind='line', color={'Tests': 'b', 'Positive': 'r', 'Negative': 'y'})\n",
    "\n",
    "plt.title('San Francisco Covid-19 Tests March 2020 - April 2021')\n",
    "plt.ylabel('Number of Tests')\n",
    "plt.xlabel('Months')\n",
    "\n",
    "plt.show()"
   ]
  },
  {
   "cell_type": "markdown",
   "id": "ccc45f01",
   "metadata": {},
   "source": [
    "The total of two columns"
   ]
  },
  {
   "cell_type": "code",
   "execution_count": 75,
   "id": "ab5b4caa",
   "metadata": {},
   "outputs": [
    {
     "data": {
      "text/plain": [
       "Positive      65159\n",
       "Negative    2598569\n",
       "dtype: int64"
      ]
     },
     "execution_count": 75,
     "metadata": {},
     "output_type": "execute_result"
    }
   ],
   "source": [
    "result_comparison = covid_test[['Positive', 'Negative']].sum()\n",
    "result_comparison.head()"
   ]
  },
  {
   "cell_type": "markdown",
   "id": "9a45d6da",
   "metadata": {},
   "source": [
    "The following pie chart exhibits the percentage of tests results; only 2.4 percent of total tests were positive."
   ]
  },
  {
   "cell_type": "code",
   "execution_count": 86,
   "id": "6c0d8370",
   "metadata": {},
   "outputs": [
    {
     "data": {
      "image/png": "[encoded data removed]",
      "text/plain": [
       "<Figure size 720x432 with 1 Axes>"
      ]
     },
     "metadata": {},
     "output_type": "display_data"
    }
   ],
   "source": [
    "color_s = ['red', 'green']\n",
    "explode_one = [0, 0.1,]\n",
    "columns = ['Positive', 'Negative']\n",
    "\n",
    "result_comparison.plot(kind='pie', figsize=(10, 6), \n",
    "                       autopct='%1.1f%%', \n",
    "                       startangle=85, \n",
    "                       shadow=True, \n",
    "                       labels=None, \n",
    "                       pctdistance=1.15,\n",
    "                      colors=color_s,\n",
    "                       explode=explode_one)\n",
    "\n",
    "plt.title('San Francisco Covid-19 Tests From March 2020 - April 2021', y=1.1)\n",
    "plt.axis('equal')\n",
    "plt.legend(labels=columns, loc='upper left')\n",
    "cols= ['b', 'r', 'y']\n",
    "\n",
    "plt.show()"
   ]
  },
  {
   "cell_type": "code",
   "execution_count": null,
   "id": "36b788e1",
   "metadata": {},
   "outputs": [],
   "source": []
  }
 ],
 "metadata": {
  "kernelspec": {
   "display_name": "Python 3",
   "language": "python",
   "name": "python3"
  },
  "language_info": {
   "codemirror_mode": {
    "name": "ipython",
    "version": 3
   },
   "file_extension": ".py",
   "mimetype": "text/x-python",
   "name": "python",
   "nbconvert_exporter": "python",
   "pygments_lexer": "ipython3",
   "version": "3.8.8"
  }
 },
 "nbformat": 4,
 "nbformat_minor": 5
}
